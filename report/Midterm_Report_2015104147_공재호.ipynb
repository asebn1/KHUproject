{
 "cells": [
  {
   "cell_type": "markdown",
   "metadata": {},
   "source": [
    "# Term Project Midterm Report"
   ]
  },
  {
   "cell_type": "markdown",
   "metadata": {},
   "source": [
    "# 1. 주제 선정 이유<br>\n",
    " 텀 프로젝트 주제는 경희대학교 컴퓨터공학과 공지사항 및 취업 정보 분석이다. 경희대학교 학부 학생들은 학교의 공지사항 및 취업 정보를 알고 싶다. 공지사항이 경희톡으로 오기도 하지만 보편화한 지 얼마 되지 않았다. 또한, 알고 싶은 정보가 오지 않을 때도 많기 때문에 직접 찾아보아야 한다. 어떤 기업의 취업 정보가 많은지와 공지사항에서는 달마다 어떤 내용이 공지되는지 알 수 있도록 한다. 이전 2015년부터 현재까지의 공지사항 및 취업 정보를 바탕으로 정보를 분석하기 위해 이 주제를 선정하였다.<br>\n",
    " <br>"
   ]
  },
  {
   "cell_type": "markdown",
   "metadata": {},
   "source": [
    "# 2.가설 정의<br>\n",
    " 2015년부터 2019년까지 매년 9월마다 가을 프로그래밍 경시대회가 공지된다고 가정하자. 그렇다면, 2020년 9월에도 가을 프로그래밍 경시대회가 공지된다는 것을 유추할 수 있다. 이처럼 주기적으로 공지되는 타이틀 정보를 저장하여 분석한다. 분석된 자료를 통해 앞으로 공지될 공지사항 및 취업 정보를 예측할 수 있다.<br>\n",
    " <br>"
   ]
  },
  {
   "cell_type": "markdown",
   "metadata": {},
   "source": [
    "# 3.인터넷을 통한 데이터 획득<br>\n",
    "1. 경희대학교 SW융합대학 - 컴퓨터공학과 - 공지사항<br>\n",
    " 공지사항은 등록일을 기준으로 하며 번호와 공지 제목이 있다. 등록일과 공지 제목을 통해 달마다 어떤 내용이 공지되는지 분석하여 확인할 수 있다.<br>\n",
    "2. 경희대학교 SW융합대학 - 컴퓨터공학과 - 취업<br>\n",
    " 취업 정보는 등록일을 기준으로 하며 번호와 제목이 있다. 등록일과 제목을 통해 달마다 어떤 기업의 취업 정보가 공지되는지 분석하여 확인할 수 있다.<br>\n",
    " <br>"
   ]
  },
  {
   "cell_type": "markdown",
   "metadata": {},
   "source": [
    "# 4.분석을 위한 데이터의 가공<br>\n",
    " 데이터를 파이썬을 통해 크롤링하여 csv 파일로 저장한다. 받아온 데이터 중 공지 제목, 등록일을 받아와 공지사항으로 저장한다. 또한, 받아온 데이터 중 취업 정보, 등록일을 받아와 취업 정보로 저장한다. 받아온 정보를 분석하여 달마다 평균적으로 올라오는 데이터의 수와 주기적으로 올라오는 데이터를 분석할 계획이다.<br>"
   ]
  },
  {
   "cell_type": "markdown",
   "metadata": {},
   "source": [
    "# 5. 획득 데이터 예시\n",
    "<br>\n",
    "[공지사항]   csv 파일로 저장<br>\n",
    "    번호                 제목                               등록일<br>\n",
    "    826      2020-1학기 졸업능력인증 신청접수 안내         2020-05-20<br>\n",
    "    825  [LINC+] 2020학년도 1학기 경희대학교 창업동아리    2020-05-18<br>\n",
    "    824  [LINC+] Microsoft Learning Program(MLP) 교육과정  2020-05-18<br>\n",
    "    823   [중요] 전자정보대학관내 마스크 필수 착용 협조    2020-05-15<br>\n",
    "    822   [중요] 이태원 클럽 방문 내/ 외국인 검역 협조     2020-05-15<br>\n",
    "    821   2020-1학기 국제 생활관(우정원, 제2기숙사) 입사   2020-05-13<br>\n",
    "    <br>\n",
    "     .<br>\n",
    "     .<br>\n",
    "     .<br>\n",
    "   <br>\n",
    "     2           2015학년도 하계 방학중 단축근무 안내      2015-07-02<br>\n",
    "     1      2015년 전자정보대학 하계방학 중 S/W 실무교육   2015-06-30<br>\n",
    "<br>"
   ]
  },
  {
   "cell_type": "markdown",
   "metadata": {},
   "source": [
    "# 6. 참고문헌<br>\n",
    "경희대학교 컴퓨터공학과 공지사항:http://ce.khu.ac.kr/index.php?hCode=BOARD&bo_idx=2 <br>\n",
    "경희대학교 컴퓨터공학과 취업정보:http://ce.khu.ac.kr/index.php?hCode=BOARD&bo_idx=3<br>\n",
    "<br>\n",
    "<br>"
   ]
  },
  {
   "cell_type": "markdown",
   "metadata": {},
   "source": [
    "# 7. 결론<br>\n",
    " 경희대학교 컴퓨터공학과의 공지사항 및 취업 정보 데이터를 추출하고 가공한다. 정보를 분석하여 앞으로 공지될 공지사항 및 취업 정보를 예측하고 달마다 공지되는 양을 파악할 것이다.<br>"
   ]
  },
  {
   "cell_type": "markdown",
   "metadata": {},
   "source": [
    "# 8. 프로젝트 향후 계획<br>\n",
    " 5월 25일 ~ 5월 30일: 데이터 수집<br>\n",
    " 6월 1일 ~ 6월 5일: 데이터 분석<br>\n",
    " 6월 6일 ~ 6월 10일: 데이터 분석 결과 도출 및 디버깅<br>"
   ]
  }
 ],
 "metadata": {
  "kernelspec": {
   "display_name": "Python 3",
   "language": "python",
   "name": "python3"
  },
  "language_info": {
   "codemirror_mode": {
    "name": "ipython",
    "version": 3
   },
   "file_extension": ".py",
   "mimetype": "text/x-python",
   "name": "python",
   "nbconvert_exporter": "python",
   "pygments_lexer": "ipython3",
   "version": "3.7.6"
  }
 },
 "nbformat": 4,
 "nbformat_minor": 2
}
